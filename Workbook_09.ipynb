{
 "cells": [
  {
   "cell_type": "markdown",
   "id": "fd7de88c-1e24-4bc9-a4d6-16ff2695fc60",
   "metadata": {},
   "source": [
    "# Workbook 09\n",
    "\n",
    "This week's workbook does not actually happen much within a Jupyter Notebook because we are going \"beyond the notebook\" now. However, you can run the terminal commands in notebook cells and the outputs will be saved in the notebook itself. The idea is to do the work outside of the notebook and then show it's completion from within the workbook itself."
   ]
  },
  {
   "cell_type": "markdown",
   "id": "4e197b7f-04f2-429b-b349-09713e2939e7",
   "metadata": {},
   "source": [
    "# Task 1\n",
    "\n",
    "Using the code from your completed Workbook 07, create a new Python package called something like `asteroid_analysis` or `ufo_analysis`. Use the folder structure described in Lesson 09.\n",
    "\n",
    "* Copy your Workbook 07 code into a new .py file and name it whatever you like.\n",
    "* Create the package folder structure and put this file within the folder package folder structure\n",
    "* Create an `__init__.py` file in your package that imports your module.\n",
    "* Create a `setup.py` file based on the example given in Lesson 09 (but filled with information about your package).\n",
    "* In your tests directory, create a new module called `test_<whatever your module is called>.py`\n",
    "* Perform an editable install of your module from this workbook using `! pip install -e <your module name>` in the cell below\n",
    "* Run your tests in another cell below using the command `!pytest`\n",
    "* Finally, import your final \"analysis function\" from your Workbook and perform your analysis on your data in this workbook."
   ]
  },
  {
   "cell_type": "markdown",
   "id": "c2d64a3f-e7e1-4bbd-bf30-b83f2e2ceffb",
   "metadata": {},
   "source": [
    "## Install cell"
   ]
  },
  {
   "cell_type": "code",
   "execution_count": null,
   "id": "1d3b7725-7e49-49e6-8c5a-a5aaad3babc8",
   "metadata": {},
   "outputs": [],
   "source": []
  },
  {
   "cell_type": "markdown",
   "id": "26c99b77-1597-453f-85f2-27f6dae6e071",
   "metadata": {},
   "source": [
    "## Test running cell"
   ]
  },
  {
   "cell_type": "code",
   "execution_count": null,
   "id": "49213ec8-cd1b-4f4b-b930-0ccf76660b40",
   "metadata": {},
   "outputs": [],
   "source": []
  },
  {
   "cell_type": "markdown",
   "id": "7ed7af6d-a191-4606-ac12-71971b178ea7",
   "metadata": {},
   "source": [
    "## Import and run cell"
   ]
  },
  {
   "cell_type": "code",
   "execution_count": null,
   "id": "4cc9bc67-617a-4fc5-ab28-eb0dc52bf555",
   "metadata": {},
   "outputs": [],
   "source": []
  },
  {
   "cell_type": "markdown",
   "id": "f646a404-07d0-45d7-9f24-57d97c715f06",
   "metadata": {},
   "source": [
    "# Task 2\n",
    "\n",
    "Using the code from ONE of your completed Workbook 08, create a new Python package called something like `file_maker` or `rebar`. Use the folder structure described in Lesson 09.\n",
    "\n",
    "* Copy your Workbook 08 code into a new .py file and name it whatever you like.\n",
    "* Create the package folder structure and put this file within the folder package folder structure\n",
    "* Create an `__init__.py` file in your package that imports your module.\n",
    "* Create a `setup.py` file based on the example given in Lesson 09 (but filled with information about your package).\n",
    "* In your tests directory, create a new module called `test_<whatever your module is called>.py`\n",
    "* Perform an editable install of your module from this workbook using `! pip install -e <your module name>` in the cell below\n",
    "* Run your tests in another cell below using the command `!pytest`\n",
    "* Finally, import your class and use it in the final cell, e.g. for `rebar` add a stack of bars together or, for `file_maker`, create a new file and display it with the `.show()` method.\n",
    "\n"
   ]
  },
  {
   "cell_type": "markdown",
   "id": "58c5afc7-d0cc-4f8c-a815-9292ee084246",
   "metadata": {},
   "source": [
    "## Install cell"
   ]
  },
  {
   "cell_type": "code",
   "execution_count": null,
   "id": "c37b4c68-37e7-4299-b44c-03b0b395df7f",
   "metadata": {},
   "outputs": [],
   "source": []
  },
  {
   "cell_type": "markdown",
   "id": "c1190c2f-1d46-4a9f-a326-0d9cd0435925",
   "metadata": {},
   "source": [
    "## Test running cell"
   ]
  },
  {
   "cell_type": "code",
   "execution_count": null,
   "id": "7a19366e-351e-4a82-8a23-d493f6c6ddd1",
   "metadata": {},
   "outputs": [],
   "source": []
  },
  {
   "cell_type": "markdown",
   "id": "a8059234-59d0-4396-a775-a9ab25c2de91",
   "metadata": {},
   "source": [
    "## Import and run cell"
   ]
  },
  {
   "cell_type": "code",
   "execution_count": null,
   "id": "c1b3856f-3998-4681-a1e8-88baac543388",
   "metadata": {},
   "outputs": [],
   "source": []
  },
  {
   "cell_type": "markdown",
   "id": "fd3ffbc6-28f5-43dd-a31b-8117b6067151",
   "metadata": {},
   "source": [
    "# Submit Workbook 09 🤯\n",
    "\n",
    "At this point, you now know how to fully \"work in Python\": you can create your own analysis programs using functional composition, you can create your own classes for use in Notebooks or larger programs, and you can now create your own modules and packages and run them with pytest (which has become the preferred \"modern\" python testing tool). You can truly call yourself a \"Python developer\".\n",
    "\n",
    "Next week, I will introduce you to some more of the Python \"eco-system\" (which includes over 300,000 installable packages from [PyPI](https://pypi.org/)). These packages comprise of largely the same stuff you have been building: functions and classes/data-types. \n",
    "\n",
    "Learning how to use other packages and modules is simply a process of learning the names of the functions you need and what arguments they take or learning the names of the classes, what data they accept, and the names of their methods."
   ]
  },
  {
   "cell_type": "code",
   "execution_count": null,
   "id": "ba17094f-845d-4e59-8ddd-2f27a2b3b131",
   "metadata": {},
   "outputs": [],
   "source": [
    "from python_course import submit_workbook\n",
    "#submit_workbook(\"Workbook_09\", \"cferster@rjc.ca\", cc_me=True)"
   ]
  }
 ],
 "metadata": {
  "kernelspec": {
   "display_name": "Python 3",
   "language": "python",
   "name": "python3"
  },
  "language_info": {
   "codemirror_mode": {
    "name": "ipython",
    "version": 3
   },
   "file_extension": ".py",
   "mimetype": "text/x-python",
   "name": "python",
   "nbconvert_exporter": "python",
   "pygments_lexer": "ipython3",
   "version": "3.8.8"
  }
 },
 "nbformat": 4,
 "nbformat_minor": 5
}
